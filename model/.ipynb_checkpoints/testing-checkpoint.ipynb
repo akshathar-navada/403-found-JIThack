{
 "cells": [
  {
   "cell_type": "code",
   "execution_count": 4,
   "id": "61b2f38d",
   "metadata": {},
   "outputs": [],
   "source": [
    "import pandas as pd\n",
    "import seaborn as sns"
   ]
  },
  {
   "cell_type": "code",
   "execution_count": 5,
   "id": "ec340db8",
   "metadata": {},
   "outputs": [],
   "source": [
    "df = pd.read_csv(\"weather_data.csv\")"
   ]
  },
  {
   "cell_type": "code",
   "execution_count": 6,
   "id": "59be99d4",
   "metadata": {},
   "outputs": [
    {
     "data": {
      "text/html": [
       "<div>\n",
       "<style scoped>\n",
       "    .dataframe tbody tr th:only-of-type {\n",
       "        vertical-align: middle;\n",
       "    }\n",
       "\n",
       "    .dataframe tbody tr th {\n",
       "        vertical-align: top;\n",
       "    }\n",
       "\n",
       "    .dataframe thead th {\n",
       "        text-align: right;\n",
       "    }\n",
       "</style>\n",
       "<table border=\"1\" class=\"dataframe\">\n",
       "  <thead>\n",
       "    <tr style=\"text-align: right;\">\n",
       "      <th></th>\n",
       "      <th>temp</th>\n",
       "      <th>max_temp</th>\n",
       "      <th>wind_speed</th>\n",
       "      <th>cloudcover</th>\n",
       "      <th>precip</th>\n",
       "      <th>humidity</th>\n",
       "      <th>class</th>\n",
       "    </tr>\n",
       "  </thead>\n",
       "  <tbody>\n",
       "    <tr>\n",
       "      <th>0</th>\n",
       "      <td>29.90</td>\n",
       "      <td>37.00</td>\n",
       "      <td>23.00</td>\n",
       "      <td>58.60</td>\n",
       "      <td>146.00</td>\n",
       "      <td>83.86</td>\n",
       "      <td>1</td>\n",
       "    </tr>\n",
       "    <tr>\n",
       "      <th>1</th>\n",
       "      <td>93.04</td>\n",
       "      <td>82.41</td>\n",
       "      <td>63.44</td>\n",
       "      <td>102.42</td>\n",
       "      <td>192.07</td>\n",
       "      <td>129.30</td>\n",
       "      <td>1</td>\n",
       "    </tr>\n",
       "    <tr>\n",
       "      <th>2</th>\n",
       "      <td>87.13</td>\n",
       "      <td>98.82</td>\n",
       "      <td>72.29</td>\n",
       "      <td>122.12</td>\n",
       "      <td>191.80</td>\n",
       "      <td>142.25</td>\n",
       "      <td>1</td>\n",
       "    </tr>\n",
       "    <tr>\n",
       "      <th>3</th>\n",
       "      <td>92.12</td>\n",
       "      <td>72.39</td>\n",
       "      <td>73.84</td>\n",
       "      <td>96.50</td>\n",
       "      <td>196.53</td>\n",
       "      <td>150.42</td>\n",
       "      <td>1</td>\n",
       "    </tr>\n",
       "    <tr>\n",
       "      <th>4</th>\n",
       "      <td>92.64</td>\n",
       "      <td>76.03</td>\n",
       "      <td>67.13</td>\n",
       "      <td>92.61</td>\n",
       "      <td>191.76</td>\n",
       "      <td>126.61</td>\n",
       "      <td>1</td>\n",
       "    </tr>\n",
       "  </tbody>\n",
       "</table>\n",
       "</div>"
      ],
      "text/plain": [
       "    temp  max_temp  wind_speed  cloudcover  precip  humidity  class\n",
       "0  29.90     37.00       23.00       58.60  146.00     83.86      1\n",
       "1  93.04     82.41       63.44      102.42  192.07    129.30      1\n",
       "2  87.13     98.82       72.29      122.12  191.80    142.25      1\n",
       "3  92.12     72.39       73.84       96.50  196.53    150.42      1\n",
       "4  92.64     76.03       67.13       92.61  191.76    126.61      1"
      ]
     },
     "execution_count": 6,
     "metadata": {},
     "output_type": "execute_result"
    }
   ],
   "source": [
    "df.head()"
   ]
  },
  {
   "cell_type": "code",
   "execution_count": 9,
   "id": "7b2bd366",
   "metadata": {},
   "outputs": [
    {
     "name": "stdout",
     "output_type": "stream",
     "text": [
      "<class 'pandas.core.frame.DataFrame'>\n",
      "RangeIndex: 5040 entries, 0 to 5039\n",
      "Data columns (total 7 columns):\n",
      " #   Column      Non-Null Count  Dtype  \n",
      "---  ------      --------------  -----  \n",
      " 0   temp        5040 non-null   float64\n",
      " 1   max_temp    5040 non-null   float64\n",
      " 2   wind_speed  5040 non-null   float64\n",
      " 3   cloudcover  5040 non-null   float64\n",
      " 4   precip      5040 non-null   float64\n",
      " 5   humidity    5040 non-null   float64\n",
      " 6   class       5040 non-null   int64  \n",
      "dtypes: float64(6), int64(1)\n",
      "memory usage: 275.8 KB\n"
     ]
    }
   ],
   "source": [
    "df.info()"
   ]
  },
  {
   "cell_type": "code",
   "execution_count": 10,
   "id": "22df34ea",
   "metadata": {},
   "outputs": [
    {
     "data": {
      "text/html": [
       "<div>\n",
       "<style scoped>\n",
       "    .dataframe tbody tr th:only-of-type {\n",
       "        vertical-align: middle;\n",
       "    }\n",
       "\n",
       "    .dataframe tbody tr th {\n",
       "        vertical-align: top;\n",
       "    }\n",
       "\n",
       "    .dataframe thead th {\n",
       "        text-align: right;\n",
       "    }\n",
       "</style>\n",
       "<table border=\"1\" class=\"dataframe\">\n",
       "  <thead>\n",
       "    <tr style=\"text-align: right;\">\n",
       "      <th></th>\n",
       "      <th>temp</th>\n",
       "      <th>max_temp</th>\n",
       "      <th>wind_speed</th>\n",
       "      <th>cloudcover</th>\n",
       "      <th>precip</th>\n",
       "      <th>humidity</th>\n",
       "      <th>class</th>\n",
       "    </tr>\n",
       "  </thead>\n",
       "  <tbody>\n",
       "    <tr>\n",
       "      <th>count</th>\n",
       "      <td>5040.000000</td>\n",
       "      <td>5040.000000</td>\n",
       "      <td>5040.000000</td>\n",
       "      <td>5040.000000</td>\n",
       "      <td>5040.000000</td>\n",
       "      <td>5040.000000</td>\n",
       "      <td>5040.000000</td>\n",
       "    </tr>\n",
       "    <tr>\n",
       "      <th>mean</th>\n",
       "      <td>74.972304</td>\n",
       "      <td>82.296603</td>\n",
       "      <td>65.832542</td>\n",
       "      <td>99.310198</td>\n",
       "      <td>249.592024</td>\n",
       "      <td>118.526250</td>\n",
       "      <td>0.595238</td>\n",
       "    </tr>\n",
       "    <tr>\n",
       "      <th>std</th>\n",
       "      <td>14.777671</td>\n",
       "      <td>14.986585</td>\n",
       "      <td>17.802253</td>\n",
       "      <td>32.136833</td>\n",
       "      <td>245.811811</td>\n",
       "      <td>24.517423</td>\n",
       "      <td>0.490895</td>\n",
       "    </tr>\n",
       "    <tr>\n",
       "      <th>min</th>\n",
       "      <td>12.800000</td>\n",
       "      <td>20.100000</td>\n",
       "      <td>0.000000</td>\n",
       "      <td>0.000000</td>\n",
       "      <td>0.000000</td>\n",
       "      <td>15.960000</td>\n",
       "      <td>0.000000</td>\n",
       "    </tr>\n",
       "    <tr>\n",
       "      <th>25%</th>\n",
       "      <td>67.950000</td>\n",
       "      <td>74.867500</td>\n",
       "      <td>56.800000</td>\n",
       "      <td>72.622500</td>\n",
       "      <td>56.470000</td>\n",
       "      <td>102.177500</td>\n",
       "      <td>0.000000</td>\n",
       "    </tr>\n",
       "    <tr>\n",
       "      <th>50%</th>\n",
       "      <td>76.585000</td>\n",
       "      <td>83.990000</td>\n",
       "      <td>66.340000</td>\n",
       "      <td>104.645000</td>\n",
       "      <td>173.340000</td>\n",
       "      <td>124.170000</td>\n",
       "      <td>1.000000</td>\n",
       "    </tr>\n",
       "    <tr>\n",
       "      <th>75%</th>\n",
       "      <td>85.362500</td>\n",
       "      <td>92.815000</td>\n",
       "      <td>75.855000</td>\n",
       "      <td>126.082500</td>\n",
       "      <td>382.677500</td>\n",
       "      <td>137.022500</td>\n",
       "      <td>1.000000</td>\n",
       "    </tr>\n",
       "    <tr>\n",
       "      <th>max</th>\n",
       "      <td>103.240000</td>\n",
       "      <td>112.270000</td>\n",
       "      <td>135.690000</td>\n",
       "      <td>160.900000</td>\n",
       "      <td>1325.510000</td>\n",
       "      <td>161.900000</td>\n",
       "      <td>1.000000</td>\n",
       "    </tr>\n",
       "  </tbody>\n",
       "</table>\n",
       "</div>"
      ],
      "text/plain": [
       "              temp     max_temp   wind_speed   cloudcover       precip  \\\n",
       "count  5040.000000  5040.000000  5040.000000  5040.000000  5040.000000   \n",
       "mean     74.972304    82.296603    65.832542    99.310198   249.592024   \n",
       "std      14.777671    14.986585    17.802253    32.136833   245.811811   \n",
       "min      12.800000    20.100000     0.000000     0.000000     0.000000   \n",
       "25%      67.950000    74.867500    56.800000    72.622500    56.470000   \n",
       "50%      76.585000    83.990000    66.340000   104.645000   173.340000   \n",
       "75%      85.362500    92.815000    75.855000   126.082500   382.677500   \n",
       "max     103.240000   112.270000   135.690000   160.900000  1325.510000   \n",
       "\n",
       "          humidity        class  \n",
       "count  5040.000000  5040.000000  \n",
       "mean    118.526250     0.595238  \n",
       "std      24.517423     0.490895  \n",
       "min      15.960000     0.000000  \n",
       "25%     102.177500     0.000000  \n",
       "50%     124.170000     1.000000  \n",
       "75%     137.022500     1.000000  \n",
       "max     161.900000     1.000000  "
      ]
     },
     "execution_count": 10,
     "metadata": {},
     "output_type": "execute_result"
    }
   ],
   "source": [
    "df.describe()"
   ]
  },
  {
   "cell_type": "code",
   "execution_count": 13,
   "id": "f7144321",
   "metadata": {},
   "outputs": [
    {
     "data": {
      "text/plain": [
       "<AxesSubplot:xlabel='temp', ylabel='Count'>"
      ]
     },
     "execution_count": 13,
     "metadata": {},
     "output_type": "execute_result"
    },
    {
     "data": {
      "image/png": "[encoded data removed]",
      "text/plain": [
       "<Figure size 432x288 with 1 Axes>"
      ]
     },
     "metadata": {
      "needs_background": "light"
     },
     "output_type": "display_data"
    }
   ],
   "source": [
    "sns.histplot(data=df,x=\"temp\",hue=\"class\")"
   ]
  },
  {
   "cell_type": "code",
   "execution_count": 14,
   "id": "194b3659",
   "metadata": {},
   "outputs": [
    {
     "data": {
      "text/plain": [
       "<AxesSubplot:xlabel='precip', ylabel='Count'>"
      ]
     },
     "execution_count": 14,
     "metadata": {},
     "output_type": "execute_result"
    },
    {
     "data": {
      "image/png": "[encoded data removed]",
      "text/plain": [
       "<Figure size 432x288 with 1 Axes>"
      ]
     },
     "metadata": {
      "needs_background": "light"
     },
     "output_type": "display_data"
    }
   ],
   "source": [
    "sns.histplot(data=df,x=\"precip\",hue=\"class\")"
   ]
  },
  {
   "cell_type": "code",
   "execution_count": 15,
   "id": "1185f071",
   "metadata": {},
   "outputs": [
    {
     "data": {
      "text/plain": [
       "<AxesSubplot:xlabel='humidity', ylabel='Count'>"
      ]
     },
     "execution_count": 15,
     "metadata": {},
     "output_type": "execute_result"
    },
    {
     "data": {
      "image/png": "[encoded data removed]",
      "text/plain": [
       "<Figure size 432x288 with 1 Axes>"
      ]
     },
     "metadata": {
      "needs_background": "light"
     },
     "output_type": "display_data"
    }
   ],
   "source": [
    "sns.histplot(data=df,x=\"humidity\",hue=\"class\")"
   ]
  },
  {
   "cell_type": "code",
   "execution_count": null,
   "id": "b4867aed",
   "metadata": {},
   "outputs": [],
   "source": []
  },
  {
   "cell_type": "markdown",
   "id": "47d6369d",
   "metadata": {},
   "source": [
    "Model"
   ]
  },
  {
   "cell_type": "code",
   "execution_count": 16,
   "id": "3c2ce02f",
   "metadata": {},
   "outputs": [],
   "source": [
    "data = df.to_numpy()"
   ]
  },
  {
   "cell_type": "code",
   "execution_count": 17,
   "id": "3d4ee26e",
   "metadata": {},
   "outputs": [],
   "source": [
    "X = data[:,:-1]"
   ]
  },
  {
   "cell_type": "code",
   "execution_count": 21,
   "id": "e32815b9",
   "metadata": {},
   "outputs": [],
   "source": [
    "y = data[:,-1]"
   ]
  },
  {
   "cell_type": "code",
   "execution_count": 22,
   "id": "06726192",
   "metadata": {},
   "outputs": [
    {
     "data": {
      "text/plain": [
       "array([[ 29.9 ,  37.  ,  23.  ,  58.6 , 146.  ,  83.86],\n",
       "       [ 93.04,  82.41,  63.44, 102.42, 192.07, 129.3 ],\n",
       "       [ 87.13,  98.82,  72.29, 122.12, 191.8 , 142.25],\n",
       "       ...,\n",
       "       [ 76.4 ,  82.69,  79.23,  58.95,  65.84, 122.76],\n",
       "       [ 61.03,  74.17,  70.44,  61.39,  64.09, 106.96],\n",
       "       [ 85.19,  64.06,  73.84,  56.96,  71.45, 109.65]])"
      ]
     },
     "execution_count": 22,
     "metadata": {},
     "output_type": "execute_result"
    }
   ],
   "source": [
    "X"
   ]
  },
  {
   "cell_type": "code",
   "execution_count": 23,
   "id": "e5e92c84",
   "metadata": {},
   "outputs": [
    {
     "data": {
      "text/plain": [
       "array([1., 1., 1., ..., 0., 0., 0.])"
      ]
     },
     "execution_count": 23,
     "metadata": {},
     "output_type": "execute_result"
    }
   ],
   "source": [
    "y"
   ]
  },
  {
   "cell_type": "code",
   "execution_count": 24,
   "id": "e2e39442",
   "metadata": {},
   "outputs": [],
   "source": [
    "from sklearn.model_selection import train_test_split\n",
    "from sklearn.metrics import accuracy_score\n",
    "from sklearn.ensemble import RandomForestClassifier\n",
    "from sklearn.ensemble import ExtraTreesClassifier\n",
    "from sklearn.tree import DecisionTreeClassifier"
   ]
  },
  {
   "cell_type": "code",
   "execution_count": 25,
   "id": "f22d00c6",
   "metadata": {},
   "outputs": [],
   "source": [
    "X_train, X_test, y_train, y_test = train_test_split(X, y, test_size=0.3, random_state=42)"
   ]
  },
  {
   "cell_type": "code",
   "execution_count": 26,
   "id": "71863db8",
   "metadata": {},
   "outputs": [],
   "source": [
    "clf1 = DecisionTreeClassifier(max_depth=None, min_samples_split=2, random_state=0)"
   ]
  },
  {
   "cell_type": "code",
   "execution_count": 27,
   "id": "001c54cd",
   "metadata": {},
   "outputs": [],
   "source": [
    "clf2 = RandomForestClassifier(n_estimators = 50, criterion = 'entropy', random_state = 0)"
   ]
  },
  {
   "cell_type": "code",
   "execution_count": 28,
   "id": "f7369db2",
   "metadata": {},
   "outputs": [],
   "source": [
    "clf3 = ExtraTreesClassifier(n_estimators=10, max_depth=None, min_samples_split=2, random_state=0)"
   ]
  },
  {
   "cell_type": "code",
   "execution_count": 29,
   "id": "4dc7a9f4",
   "metadata": {},
   "outputs": [
    {
     "data": {
      "text/plain": [
       "DecisionTreeClassifier(random_state=0)"
      ]
     },
     "execution_count": 29,
     "metadata": {},
     "output_type": "execute_result"
    }
   ],
   "source": [
    "clf1.fit(X_train,y_train)"
   ]
  },
  {
   "cell_type": "code",
   "execution_count": 32,
   "id": "6bb938d5",
   "metadata": {},
   "outputs": [],
   "source": [
    "pred1 = clf1.predict(X_test)"
   ]
  },
  {
   "cell_type": "code",
   "execution_count": 34,
   "id": "4786851b",
   "metadata": {},
   "outputs": [
    {
     "data": {
      "text/plain": [
       "0.9894179894179894"
      ]
     },
     "execution_count": 34,
     "metadata": {},
     "output_type": "execute_result"
    }
   ],
   "source": [
    "accuracy1 = accuracy_score(y_test, pred1)\n",
    "accuracy1"
   ]
  },
  {
   "cell_type": "code",
   "execution_count": 35,
   "id": "cee2e3a8",
   "metadata": {},
   "outputs": [
    {
     "data": {
      "text/plain": [
       "0.9920634920634921"
      ]
     },
     "execution_count": 35,
     "metadata": {},
     "output_type": "execute_result"
    }
   ],
   "source": [
    "clf2.fit(X_train,y_train)\n",
    "pred2 = clf2.predict(X_test)\n",
    "accuracy2 = accuracy_score(y_test, pred2)\n",
    "accuracy2"
   ]
  },
  {
   "cell_type": "code",
   "execution_count": 36,
   "id": "4058ee93",
   "metadata": {},
   "outputs": [
    {
     "data": {
      "text/plain": [
       "0.9874338624338624"
      ]
     },
     "execution_count": 36,
     "metadata": {},
     "output_type": "execute_result"
    }
   ],
   "source": [
    "clf3.fit(X_train,y_train)\n",
    "pred3 = clf3.predict(X_test)\n",
    "accuracy3 = accuracy_score(y_test, pred3)\n",
    "accuracy3"
   ]
  },
  {
   "cell_type": "code",
   "execution_count": null,
   "id": "0bc19518",
   "metadata": {},
   "outputs": [],
   "source": []
  }
 ],
 "metadata": {
  "kernelspec": {
   "display_name": "Python 3 (ipykernel)",
   "language": "python",
   "name": "python3"
  },
  "language_info": {
   "codemirror_mode": {
    "name": "ipython",
    "version": 3
   },
   "file_extension": ".py",
   "mimetype": "text/x-python",
   "name": "python",
   "nbconvert_exporter": "python",
   "pygments_lexer": "ipython3",
   "version": "3.9.12"
  }
 },
 "nbformat": 4,
 "nbformat_minor": 5
}
